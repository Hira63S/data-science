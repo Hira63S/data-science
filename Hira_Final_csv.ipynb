{
  "nbformat": 4,
  "nbformat_minor": 0,
  "metadata": {
    "colab": {
      "name": "Hira_Final_csv.ipynb",
      "version": "0.3.2",
      "provenance": [],
      "collapsed_sections": [],
      "include_colab_link": true
    },
    "language_info": {
      "codemirror_mode": {
        "name": "ipython",
        "version": 3
      },
      "file_extension": ".py",
      "mimetype": "text/x-python",
      "name": "python",
      "nbconvert_exporter": "python",
      "pygments_lexer": "ipython3",
      "version": "3.6.5"
    },
    "kernelspec": {
      "display_name": "conda_python3",
      "language": "python",
      "name": "conda_python3"
    }
  },
  "cells": [
    {
      "cell_type": "markdown",
      "metadata": {
        "id": "view-in-github",
        "colab_type": "text"
      },
      "source": [
        "<a href=\"https://colab.research.google.com/github/Hira63S/data-science/blob/master/Hira_Final_csv.ipynb\" target=\"_parent\"><img src=\"https://colab.research.google.com/assets/colab-badge.svg\" alt=\"Open In Colab\"/></a>"
      ]
    },
    {
      "cell_type": "code",
      "metadata": {
        "id": "iG5IkoVfsZZ5",
        "colab_type": "code",
        "colab": {}
      },
      "source": [
        "url = 'https://raw.githubusercontent.com/Hira63S/Master-Your-Money/master/2017%20Quarter%204%20-Big%20Categories%20expenditure.csv'"
      ],
      "execution_count": 0,
      "outputs": []
    },
    {
      "cell_type": "code",
      "metadata": {
        "id": "4k-n8DjCsZZ9",
        "colab_type": "code",
        "colab": {}
      },
      "source": [
        "import pandas as pd\n",
        "import numpy as np\n",
        "from sklearn.model_selection import train_test_split\n",
        "from sklearn.linear_model import LinearRegression\n",
        "from sklearn.metrics import mean_absolute_error, mean_squared_error, r2_score\n",
        "from sklearn.model_selection import train_test_split"
      ],
      "execution_count": 0,
      "outputs": []
    },
    {
      "cell_type": "code",
      "metadata": {
        "id": "TsnpcQhhsZZ_",
        "colab_type": "code",
        "outputId": "69db292a-263e-4101-bbf5-6591a836c536",
        "colab": {
          "base_uri": "https://localhost:8080/",
          "height": 195
        }
      },
      "source": [
        "data = pd.read_csv(url)\n",
        "\n",
        "data.head()"
      ],
      "execution_count": 9,
      "outputs": [
        {
          "output_type": "execute_result",
          "data": {
            "text/html": [
              "<div>\n",
              "<style scoped>\n",
              "    .dataframe tbody tr th:only-of-type {\n",
              "        vertical-align: middle;\n",
              "    }\n",
              "\n",
              "    .dataframe tbody tr th {\n",
              "        vertical-align: top;\n",
              "    }\n",
              "\n",
              "    .dataframe thead th {\n",
              "        text-align: right;\n",
              "    }\n",
              "</style>\n",
              "<table border=\"1\" class=\"dataframe\">\n",
              "  <thead>\n",
              "    <tr style=\"text-align: right;\">\n",
              "      <th></th>\n",
              "      <th>NEWID</th>\n",
              "      <th>Age</th>\n",
              "      <th>Education</th>\n",
              "      <th>Income_AT</th>\n",
              "      <th>Expenses</th>\n",
              "      <th>Housing</th>\n",
              "      <th>Food</th>\n",
              "      <th>Transport</th>\n",
              "      <th>Entertainment</th>\n",
              "    </tr>\n",
              "  </thead>\n",
              "  <tbody>\n",
              "    <tr>\n",
              "      <th>0</th>\n",
              "      <td>3566504</td>\n",
              "      <td>26</td>\n",
              "      <td>14</td>\n",
              "      <td>90691.9</td>\n",
              "      <td>11869.75</td>\n",
              "      <td>3739.00</td>\n",
              "      <td>1690.0</td>\n",
              "      <td>3771.0</td>\n",
              "      <td>42.0</td>\n",
              "    </tr>\n",
              "    <tr>\n",
              "      <th>1</th>\n",
              "      <td>3566514</td>\n",
              "      <td>62</td>\n",
              "      <td>14</td>\n",
              "      <td>63421.0</td>\n",
              "      <td>7753.00</td>\n",
              "      <td>3689.00</td>\n",
              "      <td>1365.0</td>\n",
              "      <td>772.0</td>\n",
              "      <td>465.0</td>\n",
              "    </tr>\n",
              "    <tr>\n",
              "      <th>2</th>\n",
              "      <td>3566534</td>\n",
              "      <td>54</td>\n",
              "      <td>15</td>\n",
              "      <td>-191620.6</td>\n",
              "      <td>77432.75</td>\n",
              "      <td>24224.75</td>\n",
              "      <td>3931.0</td>\n",
              "      <td>5536.0</td>\n",
              "      <td>4191.0</td>\n",
              "    </tr>\n",
              "    <tr>\n",
              "      <th>3</th>\n",
              "      <td>3566544</td>\n",
              "      <td>39</td>\n",
              "      <td>12</td>\n",
              "      <td>136908.0</td>\n",
              "      <td>16488.75</td>\n",
              "      <td>2593.00</td>\n",
              "      <td>3640.0</td>\n",
              "      <td>3351.0</td>\n",
              "      <td>1151.0</td>\n",
              "    </tr>\n",
              "    <tr>\n",
              "      <th>4</th>\n",
              "      <td>3566624</td>\n",
              "      <td>43</td>\n",
              "      <td>15</td>\n",
              "      <td>54347.4</td>\n",
              "      <td>8518.30</td>\n",
              "      <td>2733.50</td>\n",
              "      <td>1885.0</td>\n",
              "      <td>2805.0</td>\n",
              "      <td>0.0</td>\n",
              "    </tr>\n",
              "  </tbody>\n",
              "</table>\n",
              "</div>"
            ],
            "text/plain": [
              "     NEWID  Age  Education  ...    Food  Transport  Entertainment\n",
              "0  3566504   26         14  ...  1690.0     3771.0           42.0\n",
              "1  3566514   62         14  ...  1365.0      772.0          465.0\n",
              "2  3566534   54         15  ...  3931.0     5536.0         4191.0\n",
              "3  3566544   39         12  ...  3640.0     3351.0         1151.0\n",
              "4  3566624   43         15  ...  1885.0     2805.0            0.0\n",
              "\n",
              "[5 rows x 9 columns]"
            ]
          },
          "metadata": {
            "tags": []
          },
          "execution_count": 9
        }
      ]
    },
    {
      "cell_type": "code",
      "metadata": {
        "id": "9QKUgsEyYOhb",
        "colab_type": "code",
        "colab": {
          "base_uri": "https://localhost:8080/",
          "height": 195
        },
        "outputId": "d54915ba-31aa-4922-893b-26c4bc0c8b91"
      },
      "source": [
        "bins = [0,15000,20000,25000,30000,40000,50000,60000,80000,100000,150000,250000,500000,1000000]\n",
        "labels=[0,1,2,3,4,5,6,7,8,9,10,11,12]\n",
        "data['Inc_cat'] = pd.cut(data['Income_AT'], bins=bins, labels=labels, include_lowest=True)\n",
        "data.head()"
      ],
      "execution_count": 10,
      "outputs": [
        {
          "output_type": "execute_result",
          "data": {
            "text/html": [
              "<div>\n",
              "<style scoped>\n",
              "    .dataframe tbody tr th:only-of-type {\n",
              "        vertical-align: middle;\n",
              "    }\n",
              "\n",
              "    .dataframe tbody tr th {\n",
              "        vertical-align: top;\n",
              "    }\n",
              "\n",
              "    .dataframe thead th {\n",
              "        text-align: right;\n",
              "    }\n",
              "</style>\n",
              "<table border=\"1\" class=\"dataframe\">\n",
              "  <thead>\n",
              "    <tr style=\"text-align: right;\">\n",
              "      <th></th>\n",
              "      <th>NEWID</th>\n",
              "      <th>Age</th>\n",
              "      <th>Education</th>\n",
              "      <th>Income_AT</th>\n",
              "      <th>Expenses</th>\n",
              "      <th>Housing</th>\n",
              "      <th>Food</th>\n",
              "      <th>Transport</th>\n",
              "      <th>Entertainment</th>\n",
              "      <th>Inc_cat</th>\n",
              "    </tr>\n",
              "  </thead>\n",
              "  <tbody>\n",
              "    <tr>\n",
              "      <th>0</th>\n",
              "      <td>3566504</td>\n",
              "      <td>26</td>\n",
              "      <td>14</td>\n",
              "      <td>90691.9</td>\n",
              "      <td>11869.75</td>\n",
              "      <td>3739.00</td>\n",
              "      <td>1690.0</td>\n",
              "      <td>3771.0</td>\n",
              "      <td>42.0</td>\n",
              "      <td>8</td>\n",
              "    </tr>\n",
              "    <tr>\n",
              "      <th>1</th>\n",
              "      <td>3566514</td>\n",
              "      <td>62</td>\n",
              "      <td>14</td>\n",
              "      <td>63421.0</td>\n",
              "      <td>7753.00</td>\n",
              "      <td>3689.00</td>\n",
              "      <td>1365.0</td>\n",
              "      <td>772.0</td>\n",
              "      <td>465.0</td>\n",
              "      <td>7</td>\n",
              "    </tr>\n",
              "    <tr>\n",
              "      <th>2</th>\n",
              "      <td>3566534</td>\n",
              "      <td>54</td>\n",
              "      <td>15</td>\n",
              "      <td>-191620.6</td>\n",
              "      <td>77432.75</td>\n",
              "      <td>24224.75</td>\n",
              "      <td>3931.0</td>\n",
              "      <td>5536.0</td>\n",
              "      <td>4191.0</td>\n",
              "      <td>NaN</td>\n",
              "    </tr>\n",
              "    <tr>\n",
              "      <th>3</th>\n",
              "      <td>3566544</td>\n",
              "      <td>39</td>\n",
              "      <td>12</td>\n",
              "      <td>136908.0</td>\n",
              "      <td>16488.75</td>\n",
              "      <td>2593.00</td>\n",
              "      <td>3640.0</td>\n",
              "      <td>3351.0</td>\n",
              "      <td>1151.0</td>\n",
              "      <td>9</td>\n",
              "    </tr>\n",
              "    <tr>\n",
              "      <th>4</th>\n",
              "      <td>3566624</td>\n",
              "      <td>43</td>\n",
              "      <td>15</td>\n",
              "      <td>54347.4</td>\n",
              "      <td>8518.30</td>\n",
              "      <td>2733.50</td>\n",
              "      <td>1885.0</td>\n",
              "      <td>2805.0</td>\n",
              "      <td>0.0</td>\n",
              "      <td>6</td>\n",
              "    </tr>\n",
              "  </tbody>\n",
              "</table>\n",
              "</div>"
            ],
            "text/plain": [
              "     NEWID  Age  Education  Income_AT  ...    Food  Transport  Entertainment  Inc_cat\n",
              "0  3566504   26         14    90691.9  ...  1690.0     3771.0           42.0        8\n",
              "1  3566514   62         14    63421.0  ...  1365.0      772.0          465.0        7\n",
              "2  3566534   54         15  -191620.6  ...  3931.0     5536.0         4191.0      NaN\n",
              "3  3566544   39         12   136908.0  ...  3640.0     3351.0         1151.0        9\n",
              "4  3566624   43         15    54347.4  ...  1885.0     2805.0            0.0        6\n",
              "\n",
              "[5 rows x 10 columns]"
            ]
          },
          "metadata": {
            "tags": []
          },
          "execution_count": 10
        }
      ]
    },
    {
      "cell_type": "code",
      "metadata": {
        "id": "xWSAyUHzaSPY",
        "colab_type": "code",
        "colab": {
          "base_uri": "https://localhost:8080/",
          "height": 118
        },
        "outputId": "5f3447a7-4399-4194-afa7-e625bfc3aa20"
      },
      "source": [
        "data['Luxury'] = (data['Expenses'] - (data['Housing'] + data['Food'] + data['Transport']))\n",
        "\n",
        "data['Luxury'].head()"
      ],
      "execution_count": 19,
      "outputs": [
        {
          "output_type": "execute_result",
          "data": {
            "text/plain": [
              "0     2669.75\n",
              "1     1927.00\n",
              "2    43741.00\n",
              "3     6904.75\n",
              "4     1094.80\n",
              "Name: Luxury, dtype: float64"
            ]
          },
          "metadata": {
            "tags": []
          },
          "execution_count": 19
        }
      ]
    },
    {
      "cell_type": "code",
      "metadata": {
        "id": "Rure9Z3xa1h4",
        "colab_type": "code",
        "colab": {
          "base_uri": "https://localhost:8080/",
          "height": 195
        },
        "outputId": "c5c972d5-1c7e-469e-f082-7846e129c38a"
      },
      "source": [
        "data.head()"
      ],
      "execution_count": 20,
      "outputs": [
        {
          "output_type": "execute_result",
          "data": {
            "text/html": [
              "<div>\n",
              "<style scoped>\n",
              "    .dataframe tbody tr th:only-of-type {\n",
              "        vertical-align: middle;\n",
              "    }\n",
              "\n",
              "    .dataframe tbody tr th {\n",
              "        vertical-align: top;\n",
              "    }\n",
              "\n",
              "    .dataframe thead th {\n",
              "        text-align: right;\n",
              "    }\n",
              "</style>\n",
              "<table border=\"1\" class=\"dataframe\">\n",
              "  <thead>\n",
              "    <tr style=\"text-align: right;\">\n",
              "      <th></th>\n",
              "      <th>NEWID</th>\n",
              "      <th>Age</th>\n",
              "      <th>Education</th>\n",
              "      <th>Income_AT</th>\n",
              "      <th>Expenses</th>\n",
              "      <th>Housing</th>\n",
              "      <th>Food</th>\n",
              "      <th>Transport</th>\n",
              "      <th>Entertainment</th>\n",
              "      <th>Inc_cat</th>\n",
              "      <th>Luxury</th>\n",
              "    </tr>\n",
              "  </thead>\n",
              "  <tbody>\n",
              "    <tr>\n",
              "      <th>0</th>\n",
              "      <td>3566504</td>\n",
              "      <td>26</td>\n",
              "      <td>14</td>\n",
              "      <td>90691.9</td>\n",
              "      <td>11869.75</td>\n",
              "      <td>3739.00</td>\n",
              "      <td>1690.0</td>\n",
              "      <td>3771.0</td>\n",
              "      <td>42.0</td>\n",
              "      <td>8</td>\n",
              "      <td>2669.75</td>\n",
              "    </tr>\n",
              "    <tr>\n",
              "      <th>1</th>\n",
              "      <td>3566514</td>\n",
              "      <td>62</td>\n",
              "      <td>14</td>\n",
              "      <td>63421.0</td>\n",
              "      <td>7753.00</td>\n",
              "      <td>3689.00</td>\n",
              "      <td>1365.0</td>\n",
              "      <td>772.0</td>\n",
              "      <td>465.0</td>\n",
              "      <td>7</td>\n",
              "      <td>1927.00</td>\n",
              "    </tr>\n",
              "    <tr>\n",
              "      <th>2</th>\n",
              "      <td>3566534</td>\n",
              "      <td>54</td>\n",
              "      <td>15</td>\n",
              "      <td>-191620.6</td>\n",
              "      <td>77432.75</td>\n",
              "      <td>24224.75</td>\n",
              "      <td>3931.0</td>\n",
              "      <td>5536.0</td>\n",
              "      <td>4191.0</td>\n",
              "      <td>NaN</td>\n",
              "      <td>43741.00</td>\n",
              "    </tr>\n",
              "    <tr>\n",
              "      <th>3</th>\n",
              "      <td>3566544</td>\n",
              "      <td>39</td>\n",
              "      <td>12</td>\n",
              "      <td>136908.0</td>\n",
              "      <td>16488.75</td>\n",
              "      <td>2593.00</td>\n",
              "      <td>3640.0</td>\n",
              "      <td>3351.0</td>\n",
              "      <td>1151.0</td>\n",
              "      <td>9</td>\n",
              "      <td>6904.75</td>\n",
              "    </tr>\n",
              "    <tr>\n",
              "      <th>4</th>\n",
              "      <td>3566624</td>\n",
              "      <td>43</td>\n",
              "      <td>15</td>\n",
              "      <td>54347.4</td>\n",
              "      <td>8518.30</td>\n",
              "      <td>2733.50</td>\n",
              "      <td>1885.0</td>\n",
              "      <td>2805.0</td>\n",
              "      <td>0.0</td>\n",
              "      <td>6</td>\n",
              "      <td>1094.80</td>\n",
              "    </tr>\n",
              "  </tbody>\n",
              "</table>\n",
              "</div>"
            ],
            "text/plain": [
              "     NEWID  Age  Education  ...  Entertainment  Inc_cat    Luxury\n",
              "0  3566504   26         14  ...           42.0        8   2669.75\n",
              "1  3566514   62         14  ...          465.0        7   1927.00\n",
              "2  3566534   54         15  ...         4191.0      NaN  43741.00\n",
              "3  3566544   39         12  ...         1151.0        9   6904.75\n",
              "4  3566624   43         15  ...            0.0        6   1094.80\n",
              "\n",
              "[5 rows x 11 columns]"
            ]
          },
          "metadata": {
            "tags": []
          },
          "execution_count": 20
        }
      ]
    },
    {
      "cell_type": "code",
      "metadata": {
        "id": "hpGmPE7uZTGk",
        "colab_type": "code",
        "colab": {
          "base_uri": "https://localhost:8080/",
          "height": 252
        },
        "outputId": "45b37c94-3353-4953-c22c-c6aa5bdf2cfc"
      },
      "source": [
        "data['Inc_cat'].value_counts()"
      ],
      "execution_count": 21,
      "outputs": [
        {
          "output_type": "execute_result",
          "data": {
            "text/plain": [
              "7     769\n",
              "0     763\n",
              "4     684\n",
              "9     648\n",
              "5     600\n",
              "8     565\n",
              "6     465\n",
              "10    421\n",
              "1     354\n",
              "2     350\n",
              "3     300\n",
              "11     73\n",
              "12      0\n",
              "Name: Inc_cat, dtype: int64"
            ]
          },
          "metadata": {
            "tags": []
          },
          "execution_count": 21
        }
      ]
    },
    {
      "cell_type": "code",
      "metadata": {
        "id": "Iilxx32YZErL",
        "colab_type": "code",
        "colab": {}
      },
      "source": [
        "data['Inc_cat'] = data['Inc_cat'].dropna()"
      ],
      "execution_count": 0,
      "outputs": []
    },
    {
      "cell_type": "code",
      "metadata": {
        "id": "b7Nw9ecwZqna",
        "colab_type": "code",
        "colab": {
          "base_uri": "https://localhost:8080/",
          "height": 34
        },
        "outputId": "bcbfb484-1dca-4e71-c0cb-03cab3695a00"
      },
      "source": [
        "data['Inc_cat'].isnull().sum()"
      ],
      "execution_count": 25,
      "outputs": [
        {
          "output_type": "execute_result",
          "data": {
            "text/plain": [
              "12"
            ]
          },
          "metadata": {
            "tags": []
          },
          "execution_count": 25
        }
      ]
    },
    {
      "cell_type": "code",
      "metadata": {
        "id": "y8t_EwuTsZaK",
        "colab_type": "code",
        "outputId": "8a5c72a6-3e4b-4579-f1b4-a7a217454a0a",
        "colab": {}
      },
      "source": [
        "#df['Necessities'] = (df['Total Housing'] + df['Total Food'] + df['Total Transportation cost'])\n",
        "\n",
        "#df['Necessities'].head()"
      ],
      "execution_count": 0,
      "outputs": [
        {
          "output_type": "execute_result",
          "data": {
            "text/plain": [
              "0     9200.00\n",
              "1     5826.00\n",
              "2    33691.75\n",
              "3     9584.00\n",
              "4     7423.50\n",
              "Name: Necessities, dtype: float64"
            ]
          },
          "metadata": {
            "tags": []
          },
          "execution_count": 8
        }
      ]
    },
    {
      "cell_type": "code",
      "metadata": {
        "id": "Or1jXySjcaKv",
        "colab_type": "code",
        "colab": {
          "base_uri": "https://localhost:8080/",
          "height": 195
        },
        "outputId": "3bfb9fc5-9834-4338-cc94-2b8ee901c80c"
      },
      "source": [
        "data_new = pd.DataFrame({'Income_AT':(data['Income_AT']/12)})\n",
        "\n",
        "data_new.head()"
      ],
      "execution_count": 30,
      "outputs": [
        {
          "output_type": "execute_result",
          "data": {
            "text/html": [
              "<div>\n",
              "<style scoped>\n",
              "    .dataframe tbody tr th:only-of-type {\n",
              "        vertical-align: middle;\n",
              "    }\n",
              "\n",
              "    .dataframe tbody tr th {\n",
              "        vertical-align: top;\n",
              "    }\n",
              "\n",
              "    .dataframe thead th {\n",
              "        text-align: right;\n",
              "    }\n",
              "</style>\n",
              "<table border=\"1\" class=\"dataframe\">\n",
              "  <thead>\n",
              "    <tr style=\"text-align: right;\">\n",
              "      <th></th>\n",
              "      <th>Income_AT</th>\n",
              "    </tr>\n",
              "  </thead>\n",
              "  <tbody>\n",
              "    <tr>\n",
              "      <th>0</th>\n",
              "      <td>7557.658333</td>\n",
              "    </tr>\n",
              "    <tr>\n",
              "      <th>1</th>\n",
              "      <td>5285.083333</td>\n",
              "    </tr>\n",
              "    <tr>\n",
              "      <th>2</th>\n",
              "      <td>-15968.383333</td>\n",
              "    </tr>\n",
              "    <tr>\n",
              "      <th>3</th>\n",
              "      <td>11409.000000</td>\n",
              "    </tr>\n",
              "    <tr>\n",
              "      <th>4</th>\n",
              "      <td>4528.950000</td>\n",
              "    </tr>\n",
              "  </tbody>\n",
              "</table>\n",
              "</div>"
            ],
            "text/plain": [
              "      Income_AT\n",
              "0   7557.658333\n",
              "1   5285.083333\n",
              "2 -15968.383333\n",
              "3  11409.000000\n",
              "4   4528.950000"
            ]
          },
          "metadata": {
            "tags": []
          },
          "execution_count": 30
        }
      ]
    },
    {
      "cell_type": "code",
      "metadata": {
        "id": "BN5Kkp0YdQaY",
        "colab_type": "code",
        "colab": {}
      },
      "source": [
        ""
      ],
      "execution_count": 0,
      "outputs": []
    },
    {
      "cell_type": "code",
      "metadata": {
        "id": "cd6RpTItbGH6",
        "colab_type": "code",
        "colab": {}
      },
      "source": [
        "data_new['Expenses'] = data['Expenses']/3\n",
        "data_new['Housing'] = data['Housing']/3\n",
        "data_new['Food'] = data['Food']/3\n",
        "data_new['Transport'] = data['Transport']/3\n",
        "data_new['Entertainment'] = data['Entertainment']/3\n",
        "data_new['Luxury'] = data['Luxury']/3\n",
        "\n",
        " "
      ],
      "execution_count": 0,
      "outputs": []
    },
    {
      "cell_type": "code",
      "metadata": {
        "id": "bTIU5ieGduZe",
        "colab_type": "code",
        "colab": {}
      },
      "source": [
        "data_new['Age'] = data['Age']\n",
        "data_new['Education'] = data['Education']\n",
        "data_new['Inc_cat'] = data['Inc_cat']\n"
      ],
      "execution_count": 0,
      "outputs": []
    },
    {
      "cell_type": "code",
      "metadata": {
        "id": "xPEZWYTnsZab",
        "colab_type": "code",
        "outputId": "7f4d5787-fcc5-4024-8330-be19f74ff4bb",
        "colab": {
          "base_uri": "https://localhost:8080/",
          "height": 195
        }
      },
      "source": [
        "data_new.head()"
      ],
      "execution_count": 35,
      "outputs": [
        {
          "output_type": "execute_result",
          "data": {
            "text/html": [
              "<div>\n",
              "<style scoped>\n",
              "    .dataframe tbody tr th:only-of-type {\n",
              "        vertical-align: middle;\n",
              "    }\n",
              "\n",
              "    .dataframe tbody tr th {\n",
              "        vertical-align: top;\n",
              "    }\n",
              "\n",
              "    .dataframe thead th {\n",
              "        text-align: right;\n",
              "    }\n",
              "</style>\n",
              "<table border=\"1\" class=\"dataframe\">\n",
              "  <thead>\n",
              "    <tr style=\"text-align: right;\">\n",
              "      <th></th>\n",
              "      <th>Income_AT</th>\n",
              "      <th>Expenses</th>\n",
              "      <th>Housing</th>\n",
              "      <th>Food</th>\n",
              "      <th>Transport</th>\n",
              "      <th>Entertainment</th>\n",
              "      <th>Luxury</th>\n",
              "      <th>Age</th>\n",
              "      <th>Education</th>\n",
              "      <th>Inc_cat</th>\n",
              "    </tr>\n",
              "  </thead>\n",
              "  <tbody>\n",
              "    <tr>\n",
              "      <th>0</th>\n",
              "      <td>7557.658333</td>\n",
              "      <td>3956.583333</td>\n",
              "      <td>1246.333333</td>\n",
              "      <td>563.333333</td>\n",
              "      <td>1257.000000</td>\n",
              "      <td>14.000000</td>\n",
              "      <td>889.916667</td>\n",
              "      <td>26</td>\n",
              "      <td>14</td>\n",
              "      <td>8</td>\n",
              "    </tr>\n",
              "    <tr>\n",
              "      <th>1</th>\n",
              "      <td>5285.083333</td>\n",
              "      <td>2584.333333</td>\n",
              "      <td>1229.666667</td>\n",
              "      <td>455.000000</td>\n",
              "      <td>257.333333</td>\n",
              "      <td>155.000000</td>\n",
              "      <td>642.333333</td>\n",
              "      <td>62</td>\n",
              "      <td>14</td>\n",
              "      <td>7</td>\n",
              "    </tr>\n",
              "    <tr>\n",
              "      <th>2</th>\n",
              "      <td>-15968.383333</td>\n",
              "      <td>25810.916667</td>\n",
              "      <td>8074.916667</td>\n",
              "      <td>1310.333333</td>\n",
              "      <td>1845.333333</td>\n",
              "      <td>1397.000000</td>\n",
              "      <td>14580.333333</td>\n",
              "      <td>54</td>\n",
              "      <td>15</td>\n",
              "      <td>NaN</td>\n",
              "    </tr>\n",
              "    <tr>\n",
              "      <th>3</th>\n",
              "      <td>11409.000000</td>\n",
              "      <td>5496.250000</td>\n",
              "      <td>864.333333</td>\n",
              "      <td>1213.333333</td>\n",
              "      <td>1117.000000</td>\n",
              "      <td>383.666667</td>\n",
              "      <td>2301.583333</td>\n",
              "      <td>39</td>\n",
              "      <td>12</td>\n",
              "      <td>9</td>\n",
              "    </tr>\n",
              "    <tr>\n",
              "      <th>4</th>\n",
              "      <td>4528.950000</td>\n",
              "      <td>2839.433333</td>\n",
              "      <td>911.166667</td>\n",
              "      <td>628.333333</td>\n",
              "      <td>935.000000</td>\n",
              "      <td>0.000000</td>\n",
              "      <td>364.933333</td>\n",
              "      <td>43</td>\n",
              "      <td>15</td>\n",
              "      <td>6</td>\n",
              "    </tr>\n",
              "  </tbody>\n",
              "</table>\n",
              "</div>"
            ],
            "text/plain": [
              "      Income_AT      Expenses      Housing  ...  Age  Education  Inc_cat\n",
              "0   7557.658333   3956.583333  1246.333333  ...   26         14        8\n",
              "1   5285.083333   2584.333333  1229.666667  ...   62         14        7\n",
              "2 -15968.383333  25810.916667  8074.916667  ...   54         15      NaN\n",
              "3  11409.000000   5496.250000   864.333333  ...   39         12        9\n",
              "4   4528.950000   2839.433333   911.166667  ...   43         15        6\n",
              "\n",
              "[5 rows x 10 columns]"
            ]
          },
          "metadata": {
            "tags": []
          },
          "execution_count": 35
        }
      ]
    },
    {
      "cell_type": "code",
      "metadata": {
        "id": "TNQNYkIGhKLA",
        "colab_type": "code",
        "colab": {}
      },
      "source": [
        "data_new = data_new.replace({'?':np.NaN, ' ':np.NaN, '0':np.NaN})"
      ],
      "execution_count": 0,
      "outputs": []
    },
    {
      "cell_type": "code",
      "metadata": {
        "id": "gQElrCUFd8DV",
        "colab_type": "code",
        "colab": {
          "base_uri": "https://localhost:8080/",
          "height": 202
        },
        "outputId": "1ae89eb4-6786-4c6f-f1cd-14848fa43b9b"
      },
      "source": [
        "data_new = data_new.dropna()\n",
        "\n",
        "data_new.isnull().sum()"
      ],
      "execution_count": 69,
      "outputs": [
        {
          "output_type": "execute_result",
          "data": {
            "text/plain": [
              "Income_AT        0\n",
              "Expenses         0\n",
              "Housing          0\n",
              "Food             0\n",
              "Transport        0\n",
              "Entertainment    0\n",
              "Luxury           0\n",
              "Age              0\n",
              "Education        0\n",
              "Inc_cat          0\n",
              "dtype: int64"
            ]
          },
          "metadata": {
            "tags": []
          },
          "execution_count": 69
        }
      ]
    },
    {
      "cell_type": "code",
      "metadata": {
        "id": "-tyHIU6VsZae",
        "colab_type": "code",
        "colab": {}
      },
      "source": [
        "features = ['Inc_cat', 'Housing', 'Food', 'Transport', 'Entertainment']\n",
        "target = 'Luxury'\n",
        "\n",
        "\n",
        "X = data_new[features]\n",
        "y = data_new[target]\n",
        "\n",
        "X_train, X_test, y_train, y_test = train_test_split(X, y, test_size = 0.30, random_state = 42)\n"
      ],
      "execution_count": 0,
      "outputs": []
    },
    {
      "cell_type": "code",
      "metadata": {
        "id": "J2kUHfMGe1S2",
        "colab_type": "code",
        "colab": {
          "base_uri": "https://localhost:8080/",
          "height": 34
        },
        "outputId": "8cac54b9-c360-4227-e291-7d4f30d11b4e"
      },
      "source": [
        "X_train.shape, X_test.shape, y_train.shape, y_test.shape"
      ],
      "execution_count": 71,
      "outputs": [
        {
          "output_type": "execute_result",
          "data": {
            "text/plain": [
              "((4194, 5), (1798, 5), (4194,), (1798,))"
            ]
          },
          "metadata": {
            "tags": []
          },
          "execution_count": 71
        }
      ]
    },
    {
      "cell_type": "code",
      "metadata": {
        "id": "Fo12ReA0e-ZK",
        "colab_type": "code",
        "colab": {
          "base_uri": "https://localhost:8080/",
          "height": 284
        },
        "outputId": "2b3dd292-162c-463f-fe4d-e4d27022351a"
      },
      "source": [
        "X_train.describe()"
      ],
      "execution_count": 72,
      "outputs": [
        {
          "output_type": "execute_result",
          "data": {
            "text/html": [
              "<div>\n",
              "<style scoped>\n",
              "    .dataframe tbody tr th:only-of-type {\n",
              "        vertical-align: middle;\n",
              "    }\n",
              "\n",
              "    .dataframe tbody tr th {\n",
              "        vertical-align: top;\n",
              "    }\n",
              "\n",
              "    .dataframe thead th {\n",
              "        text-align: right;\n",
              "    }\n",
              "</style>\n",
              "<table border=\"1\" class=\"dataframe\">\n",
              "  <thead>\n",
              "    <tr style=\"text-align: right;\">\n",
              "      <th></th>\n",
              "      <th>Housing</th>\n",
              "      <th>Food</th>\n",
              "      <th>Transport</th>\n",
              "      <th>Entertainment</th>\n",
              "    </tr>\n",
              "  </thead>\n",
              "  <tbody>\n",
              "    <tr>\n",
              "      <th>count</th>\n",
              "      <td>4194.000000</td>\n",
              "      <td>4194.000000</td>\n",
              "      <td>4194.000000</td>\n",
              "      <td>4194.000000</td>\n",
              "    </tr>\n",
              "    <tr>\n",
              "      <th>mean</th>\n",
              "      <td>1162.222555</td>\n",
              "      <td>459.439040</td>\n",
              "      <td>499.604091</td>\n",
              "      <td>145.563000</td>\n",
              "    </tr>\n",
              "    <tr>\n",
              "      <th>std</th>\n",
              "      <td>1341.261668</td>\n",
              "      <td>393.483677</td>\n",
              "      <td>1095.587542</td>\n",
              "      <td>369.022650</td>\n",
              "    </tr>\n",
              "    <tr>\n",
              "      <th>min</th>\n",
              "      <td>0.000000</td>\n",
              "      <td>0.000000</td>\n",
              "      <td>0.000000</td>\n",
              "      <td>0.000000</td>\n",
              "    </tr>\n",
              "    <tr>\n",
              "      <th>25%</th>\n",
              "      <td>410.583417</td>\n",
              "      <td>189.277783</td>\n",
              "      <td>91.666667</td>\n",
              "      <td>16.666667</td>\n",
              "    </tr>\n",
              "    <tr>\n",
              "      <th>50%</th>\n",
              "      <td>792.444500</td>\n",
              "      <td>346.666667</td>\n",
              "      <td>266.000000</td>\n",
              "      <td>60.000000</td>\n",
              "    </tr>\n",
              "    <tr>\n",
              "      <th>75%</th>\n",
              "      <td>1438.666667</td>\n",
              "      <td>606.666667</td>\n",
              "      <td>574.833333</td>\n",
              "      <td>143.250000</td>\n",
              "    </tr>\n",
              "    <tr>\n",
              "      <th>max</th>\n",
              "      <td>30054.333333</td>\n",
              "      <td>4354.888900</td>\n",
              "      <td>30079.000000</td>\n",
              "      <td>9450.000000</td>\n",
              "    </tr>\n",
              "  </tbody>\n",
              "</table>\n",
              "</div>"
            ],
            "text/plain": [
              "            Housing         Food     Transport  Entertainment\n",
              "count   4194.000000  4194.000000   4194.000000    4194.000000\n",
              "mean    1162.222555   459.439040    499.604091     145.563000\n",
              "std     1341.261668   393.483677   1095.587542     369.022650\n",
              "min        0.000000     0.000000      0.000000       0.000000\n",
              "25%      410.583417   189.277783     91.666667      16.666667\n",
              "50%      792.444500   346.666667    266.000000      60.000000\n",
              "75%     1438.666667   606.666667    574.833333     143.250000\n",
              "max    30054.333333  4354.888900  30079.000000    9450.000000"
            ]
          },
          "metadata": {
            "tags": []
          },
          "execution_count": 72
        }
      ]
    },
    {
      "cell_type": "markdown",
      "metadata": {
        "id": "v84JcUnpgRq_",
        "colab_type": "text"
      },
      "source": [
        ""
      ]
    },
    {
      "cell_type": "code",
      "metadata": {
        "id": "pzUXPmDwgsnY",
        "colab_type": "code",
        "colab": {}
      },
      "source": [
        ""
      ],
      "execution_count": 0,
      "outputs": []
    },
    {
      "cell_type": "code",
      "metadata": {
        "id": "OS_aKmkTg218",
        "colab_type": "code",
        "colab": {
          "base_uri": "https://localhost:8080/",
          "height": 202
        },
        "outputId": "b2ee09b4-ccd0-4875-b546-eb504042fced"
      },
      "source": [
        "data_new.isnull().sum()"
      ],
      "execution_count": 62,
      "outputs": [
        {
          "output_type": "execute_result",
          "data": {
            "text/plain": [
              "Income_AT        0\n",
              "Expenses         0\n",
              "Housing          0\n",
              "Food             0\n",
              "Transport        0\n",
              "Entertainment    0\n",
              "Luxury           0\n",
              "Age              0\n",
              "Education        0\n",
              "Inc_cat          0\n",
              "dtype: int64"
            ]
          },
          "metadata": {
            "tags": []
          },
          "execution_count": 62
        }
      ]
    },
    {
      "cell_type": "code",
      "metadata": {
        "id": "9p_olu4ng6Kx",
        "colab_type": "code",
        "colab": {}
      },
      "source": [
        "data_new = data_new.dropna()"
      ],
      "execution_count": 0,
      "outputs": []
    },
    {
      "cell_type": "code",
      "metadata": {
        "id": "7vwupOwchAAS",
        "colab_type": "code",
        "colab": {
          "base_uri": "https://localhost:8080/",
          "height": 202
        },
        "outputId": "2ab200b5-9ad1-4cb9-e434-721907370be0"
      },
      "source": [
        "data_new.isnull().sum()"
      ],
      "execution_count": 64,
      "outputs": [
        {
          "output_type": "execute_result",
          "data": {
            "text/plain": [
              "Income_AT        0\n",
              "Expenses         0\n",
              "Housing          0\n",
              "Food             0\n",
              "Transport        0\n",
              "Entertainment    0\n",
              "Luxury           0\n",
              "Age              0\n",
              "Education        0\n",
              "Inc_cat          0\n",
              "dtype: int64"
            ]
          },
          "metadata": {
            "tags": []
          },
          "execution_count": 64
        }
      ]
    },
    {
      "cell_type": "code",
      "metadata": {
        "id": "jLRjeI5SfRPZ",
        "colab_type": "code",
        "colab": {
          "base_uri": "https://localhost:8080/",
          "height": 34
        },
        "outputId": "5b4deb30-ba00-4f51-c4f5-2649b069e76e"
      },
      "source": [
        "data_new['Entertainment'].isnull().sum()"
      ],
      "execution_count": 59,
      "outputs": [
        {
          "output_type": "execute_result",
          "data": {
            "text/plain": [
              "0"
            ]
          },
          "metadata": {
            "tags": []
          },
          "execution_count": 59
        }
      ]
    },
    {
      "cell_type": "code",
      "metadata": {
        "id": "umMtzoHuexEx",
        "colab_type": "code",
        "colab": {
          "base_uri": "https://localhost:8080/",
          "height": 50
        },
        "outputId": "7e5644bd-e75b-4b18-b96e-611b7a22a17e"
      },
      "source": [
        "model = LinearRegression()\n",
        "model.fit(X_train, y_train)\n",
        "y_pred = np.exp(model.predict(X_test)) # Apply exponential function (inverse of natural log) to the predictions\n",
        "#print('R^2', model.score(X_test, y_pred))"
      ],
      "execution_count": 73,
      "outputs": [
        {
          "output_type": "stream",
          "text": [
            "/usr/local/lib/python3.6/dist-packages/ipykernel_launcher.py:3: RuntimeWarning: overflow encountered in exp\n",
            "  This is separate from the ipykernel package so we can avoid doing imports until\n"
          ],
          "name": "stderr"
        }
      ]
    },
    {
      "cell_type": "code",
      "metadata": {
        "id": "umQgXRMwhZdT",
        "colab_type": "code",
        "colab": {
          "base_uri": "https://localhost:8080/",
          "height": 151
        },
        "outputId": "5b4638f7-331c-4962-e574-834e4a3d86e8"
      },
      "source": [
        "def run_linear_model(X, y):\n",
        "    # Split into test and train data\n",
        "    X_train, X_test, y_train, y_test = train_test_split(X, y, train_size=0.80, test_size=0.20, random_state=42)\n",
        "\n",
        "    # Fit model using train data\n",
        "    model = LinearRegression()\n",
        "    model.fit(X_train, y_train)\n",
        "\n",
        "    # Make predictions using test features\n",
        "    y_pred = model.predict(X_test)\n",
        "\n",
        "    # Compare predictions to test target\n",
        "    rmse = (np.sqrt(mean_squared_error(y_test, y_pred)))\n",
        "    r2 = r2_score(y_test, y_pred)\n",
        "\n",
        "    print('Root Mean Squared Error', rmse)\n",
        "    print('R^2 Score', r2)\n",
        "    print('Intercept', model.intercept_)\n",
        "    coefficients = pd.Series(model.coef_, X_train.columns)\n",
        "    print(coefficients.to_string())\n",
        "    \n",
        "run_linear_model(X, y)"
      ],
      "execution_count": 74,
      "outputs": [
        {
          "output_type": "stream",
          "text": [
            "Root Mean Squared Error 1081.7988837184446\n",
            "R^2 Score 0.43613528723864026\n",
            "Intercept -384.23427892316545\n",
            "Inc_cat          101.340585\n",
            "Housing            0.213407\n",
            "Food               0.977665\n",
            "Transport          0.115991\n",
            "Entertainment      1.484437\n"
          ],
          "name": "stdout"
        }
      ]
    },
    {
      "cell_type": "code",
      "metadata": {
        "id": "sbTSGExEsZah",
        "colab_type": "code",
        "colab": {}
      },
      "source": [
        "#df = df.loc[(df!=0).all(1)]"
      ],
      "execution_count": 0,
      "outputs": []
    },
    {
      "cell_type": "markdown",
      "metadata": {
        "id": "3G3r1UvysZay",
        "colab_type": "text"
      },
      "source": [
        "##Model##\n"
      ]
    },
    {
      "cell_type": "code",
      "metadata": {
        "id": "PmB47zfHsZaz",
        "colab_type": "code",
        "colab": {}
      },
      "source": [
        "features = ['FINATXEM']\n",
        "\n",
        "target = '50%'\n",
        "\n",
        "X = df[features]\n",
        "y = df[target]\n",
        "\n",
        "\n",
        "X_train, X_test, y_train, y_test = train_test_split(X, y, test_size = 0.30, random_state = 42)"
      ],
      "execution_count": 0,
      "outputs": []
    },
    {
      "cell_type": "code",
      "metadata": {
        "id": "1MXqTXkpsZa4",
        "colab_type": "code",
        "outputId": "ec3d1a3c-150d-4f64-cb28-5e242e733e99",
        "colab": {}
      },
      "source": [
        "model = LinearRegression()\n",
        "model.fit(X_train, y_train)\n",
        "y_pred = np.exp(model.predict(X_test)) # Apply exponential function (inverse of natural log) to the predictions\n",
        "print('R^2', model.score(X_test, y_pred))"
      ],
      "execution_count": 0,
      "outputs": [
        {
          "output_type": "stream",
          "text": [
            "R^2 -0.0007594206012886406\n"
          ],
          "name": "stdout"
        }
      ]
    },
    {
      "cell_type": "code",
      "metadata": {
        "id": "nN-EAMlCsZa8",
        "colab_type": "code",
        "colab": {}
      },
      "source": [
        ""
      ],
      "execution_count": 0,
      "outputs": []
    }
  ]
}